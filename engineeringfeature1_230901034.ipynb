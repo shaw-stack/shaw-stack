{
  "nbformat": 4,
  "nbformat_minor": 0,
  "metadata": {
    "colab": {
      "provenance": []
    },
    "kernelspec": {
      "name": "python3",
      "display_name": "Python 3"
    },
    "language_info": {
      "name": "python"
    }
  },
  "cells": [
    {
      "cell_type": "code",
      "execution_count": 3,
      "metadata": {
        "colab": {
          "base_uri": "https://localhost:8080/"
        },
        "id": "JgpIKHUsMt7i",
        "outputId": "059eadec-ebb5-495e-ceea-d8a4b8879471"
      },
      "outputs": [
        {
          "output_type": "stream",
          "name": "stdout",
          "text": [
            "Before:\n",
            "\n",
            "   Age\n",
            "0   42\n",
            "1   15\n",
            "2   67\n",
            "3   55\n",
            "4    1\n",
            "5   29\n",
            "6   75\n",
            "7   89\n",
            "8    4\n",
            "After:\n",
            "\n",
            "   Age         Label\n",
            "0   42         Adult\n",
            "1   15         Child\n",
            "2   67       Elderly\n",
            "3   55         Adult\n",
            "4    1  Baby/Toddler\n",
            "5   29         Adult\n",
            "6   75       Elderly\n",
            "7   89       Elderly\n",
            "8    4         Child\n",
            "Categories:\n",
            "\n",
            "Label\n",
            "Elderly         3\n",
            "Adult           3\n",
            "Child           2\n",
            "Baby/Toddler    1\n",
            "Name: count, dtype: int64\n"
          ]
        }
      ],
      "source": [
        "import pandas as pd\n",
        "import numpy as np\n",
        "df=pd.DataFrame({'Age':[42,15,67,55,1,29,75,89,4]})\n",
        "print(\"Before:\\n\")\n",
        "print(df)\n",
        "df['Label']=pd.cut(x=df['Age'],bins=[0,3,17,63,99],labels=['Baby/Toddler','Child','Adult','Elderly'])\n",
        "print(\"After:\\n\")\n",
        "print(df)\n",
        "print(\"Categories:\\n\")\n",
        "print(df['Label'].value_counts())"
      ]
    }
  ]
}