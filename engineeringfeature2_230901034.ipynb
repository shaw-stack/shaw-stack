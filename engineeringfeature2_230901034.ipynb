{
  "nbformat": 4,
  "nbformat_minor": 0,
  "metadata": {
    "colab": {
      "provenance": []
    },
    "kernelspec": {
      "name": "python3",
      "display_name": "Python 3"
    },
    "language_info": {
      "name": "python"
    }
  },
  "cells": [
    {
      "cell_type": "code",
      "execution_count": 1,
      "metadata": {
        "colab": {
          "base_uri": "https://localhost:8080/"
        },
        "id": "3D5LkC-7OuKJ",
        "outputId": "f0fb6f52-3162-4fc0-a456-7e7139a31cb1"
      },
      "outputs": [
        {
          "output_type": "stream",
          "name": "stdout",
          "text": [
            "Before:\n",
            "\n",
            "   Height\n",
            "0   150.4\n",
            "1   167.8\n",
            "2   160.0\n",
            "3   170.0\n",
            "4   177.0\n",
            "5   179.0\n",
            "6   165.0\n",
            "7   156.3\n",
            "8   173.2\n",
            "9   170.2\n",
            "After:\n",
            "\n",
            "   Height    Label\n",
            "0   150.4    Short\n",
            "1   167.8  Average\n",
            "2   160.0  Average\n",
            "3   170.0     Tall\n",
            "4   177.0     Tall\n",
            "5   179.0     Tall\n",
            "6   165.0  Average\n",
            "7   156.3    Short\n",
            "8   173.2     Tall\n",
            "9   170.2     Tall\n",
            "Categories:\n",
            "Label\n",
            "Tall       5\n",
            "Average    3\n",
            "Short      2\n",
            "Name: count, dtype: int64\n"
          ]
        }
      ],
      "source": [
        "import pandas as pd\n",
        "import numpy as np\n",
        "df=pd.DataFrame({'Height':[150.4,167.8,160,170,177,179,165,156.3,173.2,170.2]})\n",
        "print(\"Before:\\n\")\n",
        "print(df)\n",
        "#categorizing height into 3 categories\n",
        "#Short:(150,157]\n",
        "#Average:(157,169]\n",
        "#Tall:(169,180]\n",
        "df['Label']=pd.cut(x=df['Height'],bins=[150,157,169,180],labels=['Short','Average','Tall'])\n",
        "print(\"After:\\n\")\n",
        "print(df)\n",
        "print(\"Categories:\")\n",
        "print(df['Label'].value_counts())\n"
      ]
    }
  ]
}