{
 "cells": [
  {
   "cell_type": "code",
   "execution_count": 1,
   "id": "d4ad06e9",
   "metadata": {},
   "outputs": [
    {
     "name": "stdout",
     "output_type": "stream",
     "text": [
      "Random values:\n",
      " [[0.86464771 0.18690965 0.9423038  0.26459988]\n",
      " [0.56790097 0.31398673 0.22686707 0.58548506]\n",
      " [0.36865043 0.36110047 0.49238855 0.141885  ]]\n"
     ]
    }
   ],
   "source": [
    "import numpy as np\n",
    "m=np.random.random((3,4))\n",
    "print(\"Random values:\\n\",m)"
   ]
  },
  {
   "cell_type": "code",
   "execution_count": 2,
   "id": "8e407231",
   "metadata": {},
   "outputs": [
    {
     "name": "stdout",
     "output_type": "stream",
     "text": [
      "Array with all Zeros:\n",
      " [[0. 0. 0. 0.]\n",
      " [0. 0. 0. 0.]\n",
      " [0. 0. 0. 0.]]\n"
     ]
    }
   ],
   "source": [
    "import numpy as np\n",
    "x=np.zeros((3,4))\n",
    "print(\"Array with all Zeros:\\n\",x)"
   ]
  },
  {
   "cell_type": "code",
   "execution_count": 3,
   "id": "67d46136",
   "metadata": {},
   "outputs": [
    {
     "name": "stdout",
     "output_type": "stream",
     "text": [
      "Sequenced Array: [ 5  7  9 11 13 15 17 19 21 23 25 27 29]\n"
     ]
    }
   ],
   "source": [
    "import numpy as np\n",
    "y=np.arange(5,30,2)\n",
    "print(\"Sequenced Array:\",y)"
   ]
  },
  {
   "cell_type": "code",
   "execution_count": 5,
   "id": "42476697",
   "metadata": {},
   "outputs": [
    {
     "name": "stdout",
     "output_type": "stream",
     "text": [
      "Shape of the array: (2, 4)\n",
      "No.Of.Dimensions: 2\n",
      "Datatype of the array: int64\n"
     ]
    }
   ],
   "source": [
    "import numpy as np\n",
    "a=np.array([[1,7,2,4],[0,9,3,6]])\n",
    "print(\"Shape of the array:\",a.shape)\n",
    "print(\"No.Of.Dimensions:\",a.ndim)\n",
    "print(\"Datatype of the array:\",a.dtype)"
   ]
  },
  {
   "cell_type": "code",
   "execution_count": 6,
   "id": "32d50c01",
   "metadata": {},
   "outputs": [
    {
     "name": "stdout",
     "output_type": "stream",
     "text": [
      "Original Array:\n",
      " [[1 7 2 4]\n",
      " [0 9 3 6]]\n",
      "Flattened Array:\n",
      " [1 7 2 4 0 9 3 6]\n"
     ]
    }
   ],
   "source": [
    "b=a.flatten()\n",
    "print(\"Original Array:\\n\",a)\n",
    "print(\"Flattened Array:\\n\",b)"
   ]
  },
  {
   "cell_type": "code",
   "execution_count": null,
   "id": "4c06e3d7",
   "metadata": {},
   "outputs": [],
   "source": []
  }
 ],
 "metadata": {
  "kernelspec": {
   "display_name": "Python 3 (ipykernel)",
   "language": "python",
   "name": "python3"
  },
  "language_info": {
   "codemirror_mode": {
    "name": "ipython",
    "version": 3
   },
   "file_extension": ".py",
   "mimetype": "text/x-python",
   "name": "python",
   "nbconvert_exporter": "python",
   "pygments_lexer": "ipython3",
   "version": "3.11.5"
  }
 },
 "nbformat": 4,
 "nbformat_minor": 5
}
