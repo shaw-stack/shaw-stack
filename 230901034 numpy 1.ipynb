{
 "cells": [
  {
   "cell_type": "code",
   "execution_count": 1,
   "id": "1efb79c8",
   "metadata": {},
   "outputs": [
    {
     "name": "stdout",
     "output_type": "stream",
     "text": [
      "one dimensional array: [10 20 30 40]\n"
     ]
    }
   ],
   "source": [
    "import numpy as np\n",
    "a=np.array([10,20,30,40])\n",
    "print(\"one dimensional array:\",a)"
   ]
  },
  {
   "cell_type": "code",
   "execution_count": null,
   "id": "d23ac7c9",
   "metadata": {},
   "outputs": [],
   "source": []
  },
  {
   "cell_type": "code",
   "execution_count": 2,
   "id": "756f0ab2",
   "metadata": {},
   "outputs": [
    {
     "name": "stdout",
     "output_type": "stream",
     "text": [
      "two dimensional array: [[1 2 3]\n",
      " [4 5 6]]\n"
     ]
    }
   ],
   "source": [
    "import numpy as np \n",
    "a=np.array(([1,2,3],[4,5,6]))\n",
    "print(\"two dimensional array:\",a)"
   ]
  },
  {
   "cell_type": "code",
   "execution_count": 3,
   "id": "315dc3ee",
   "metadata": {},
   "outputs": [
    {
     "name": "stdout",
     "output_type": "stream",
     "text": [
      "three dimensional array: [[1 2 3]\n",
      " [4 5 6]\n",
      " [7 8 9]]\n"
     ]
    }
   ],
   "source": [
    "import numpy as np\n",
    "a=np.array((([1,2,3],[4,5,6],[7,8,9])))\n",
    "print(\"three dimensional array:\",a)"
   ]
  },
  {
   "cell_type": "code",
   "execution_count": 4,
   "id": "f93fa2f9",
   "metadata": {},
   "outputs": [
    {
     "name": "stdout",
     "output_type": "stream",
     "text": [
      "/n array with all zeros:\n",
      " [[0. 0. 0. 0. 0.]\n",
      " [0. 0. 0. 0. 0.]\n",
      " [0. 0. 0. 0. 0.]]\n"
     ]
    }
   ],
   "source": [
    "import numpy as np\n",
    "c=np.zeros((3,5))\n",
    "print(\"/n array with all zeros:\\n\",c)"
   ]
  },
  {
   "cell_type": "code",
   "execution_count": 5,
   "id": "71d7d0aa",
   "metadata": {},
   "outputs": [
    {
     "name": "stdout",
     "output_type": "stream",
     "text": [
      "\n",
      " random value :\n",
      " [[0.09441939 0.75002724 0.58220348 0.15385529 0.37687797]\n",
      " [0.4039017  0.91708091 0.22741049 0.25797192 0.04890346]\n",
      " [0.84300356 0.85932937 0.07108792 0.91499752 0.8586549 ]]\n"
     ]
    }
   ],
   "source": [
    "import numpy as np\n",
    "d=np.random.random((3,5))\n",
    "print(\"\\n random value :\\n\",d)"
   ]
  },
  {
   "cell_type": "code",
   "execution_count": 9,
   "id": "c31099c2",
   "metadata": {},
   "outputs": [
    {
     "name": "stdout",
     "output_type": "stream",
     "text": [
      "\n",
      " sequence value:\n",
      " [0 1 2 3 4 5 6 7 8 9]\n"
     ]
    }
   ],
   "source": [
    "import numpy as np\n",
    "e=np.arange(0,10,1)\n",
    "print(\"\\n sequence value:\\n\",e)"
   ]
  },
  {
   "cell_type": "code",
   "execution_count": 13,
   "id": "ca8a3d28",
   "metadata": {},
   "outputs": [
    {
     "name": "stdout",
     "output_type": "stream",
     "text": [
      " \n",
      " orginal array:\n",
      " [[ 1  2  3  4]\n",
      " [ 5  6  7  8]\n",
      " [ 9 10 11 12]]\n",
      "\n",
      " reshaped array:\n",
      " [[ 1  2  3]\n",
      " [ 4  5  6]\n",
      " [ 7  8  9]\n",
      " [10 11 12]]\n"
     ]
    }
   ],
   "source": [
    "import numpy as np\n",
    "orgarr=np.array([[1,2,3,4],[5,6,7,8],[9,10,11,12]])\n",
    "newarr=orgarr.reshape(4,3)\n",
    "print(\" \\n orginal array:\\n\",orgarr)\n",
    "print(\"\\n reshaped array:\\n\",newarr)"
   ]
  },
  {
   "cell_type": "code",
   "execution_count": 9,
   "id": "29ea8634",
   "metadata": {
    "tags": []
   },
   "outputs": [
    {
     "name": "stdout",
     "output_type": "stream",
     "text": [
      "[3 4 5 6]\n"
     ]
    }
   ],
   "source": [
    "import numpy as np \n",
    "arr=np.array([1,2,3,4,5,6,7,8])\n",
    "slice=arr[2:6]\n",
    "print(slice)"
   ]
  },
  {
   "cell_type": "code",
   "execution_count": 13,
   "id": "b9029502",
   "metadata": {
    "tags": []
   },
   "outputs": [
    {
     "name": "stdout",
     "output_type": "stream",
     "text": [
      "[1 3 5 7]\n"
     ]
    }
   ],
   "source": [
    "slice1=arr[::2]\n",
    "print(slice1)"
   ]
  },
  {
   "cell_type": "code",
   "execution_count": 15,
   "id": "9df093ae-9b27-4007-b319-98113b75b092",
   "metadata": {
    "tags": []
   },
   "outputs": [
    {
     "name": "stdout",
     "output_type": "stream",
     "text": [
      "[8, 7, 6, 5, 4, 3, 2, 1]\n"
     ]
    }
   ],
   "source": [
    "import numpy as np\n",
    "arr=([1,2,3,4,5,6,7,8])\n",
    "reversed_arr=arr[::-1]\n",
    "print(reversed_arr)"
   ]
  },
  {
   "cell_type": "code",
   "execution_count": 17,
   "id": "03a86cc4-cf3b-46f5-95bf-7f6e49ae5ff3",
   "metadata": {
    "tags": []
   },
   "outputs": [
    {
     "name": "stdout",
     "output_type": "stream",
     "text": [
      "[1, 4, 7]\n"
     ]
    }
   ],
   "source": [
    "slice2=arr[::3]\n",
    "print(slice2)"
   ]
  },
  {
   "cell_type": "code",
   "execution_count": 19,
   "id": "ee220551-2dd6-4176-9660-1c10fc8d7c10",
   "metadata": {
    "tags": []
   },
   "outputs": [
    {
     "name": "stdout",
     "output_type": "stream",
     "text": [
      "[[2 3]\n",
      " [5 6]]\n"
     ]
    }
   ],
   "source": [
    "import numpy as np\n",
    "arr=np.array([[1,2,3],[4,5,6],[7,8,9,]])\n",
    "subarray=arr[0:2,1:3]\n",
    "print(subarray)"
   ]
  },
  {
   "cell_type": "code",
   "execution_count": 21,
   "id": "416a42ef-c578-4810-a51f-945e922599fb",
   "metadata": {
    "tags": []
   },
   "outputs": [
    {
     "name": "stdout",
     "output_type": "stream",
     "text": [
      "[1 4 7]\n"
     ]
    }
   ],
   "source": [
    "col1=arr[:,0]\n",
    "print(col1)"
   ]
  },
  {
   "cell_type": "code",
   "execution_count": 30,
   "id": "bc5314b9-0e66-4bae-b446-b5d8bdb14dcc",
   "metadata": {
    "tags": []
   },
   "outputs": [
    {
     "name": "stdout",
     "output_type": "stream",
     "text": [
      "[1 2 3]\n"
     ]
    }
   ],
   "source": [
    "row1=arr[0,:]\n",
    "print(row1)"
   ]
  },
  {
   "cell_type": "code",
   "execution_count": 44,
   "id": "fc897760-f9cb-46a5-b46f-e60d59378035",
   "metadata": {
    "tags": []
   },
   "outputs": [
    {
     "name": "stdout",
     "output_type": "stream",
     "text": [
      "[[1 2 3]\n",
      " [4 5 6]]\n"
     ]
    }
   ],
   "source": [
    "print(arr[0:2:1])"
   ]
  },
  {
   "cell_type": "code",
   "execution_count": 50,
   "id": "a87927f4-7333-4a70-acb3-a6490ae1e4d0",
   "metadata": {
    "tags": []
   },
   "outputs": [
    {
     "name": "stdout",
     "output_type": "stream",
     "text": [
      "10\n",
      "40\n"
     ]
    }
   ],
   "source": [
    "import numpy as np\n",
    "import array\n",
    "arr=array.array('i',[10,20,30,40,50])\n",
    "print(arr[0])\n",
    "print(arr[3])"
   ]
  },
  {
   "cell_type": "code",
   "execution_count": 52,
   "id": "dc1160ae-a626-46df-8660-4d7049b24878",
   "metadata": {
    "tags": []
   },
   "outputs": [
    {
     "name": "stdout",
     "output_type": "stream",
     "text": [
      "1\n",
      "8\n"
     ]
    }
   ],
   "source": [
    "import numpy as np\n",
    "arr=np.array([[1,2,3],[4,5,6],[7,8,9]])\n",
    "print(arr[0,0])\n",
    "print(arr[2,1])"
   ]
  },
  {
   "cell_type": "code",
   "execution_count": 54,
   "id": "688bbb23-68de-405c-9ec9-4a072843a221",
   "metadata": {
    "tags": []
   },
   "outputs": [
    {
     "name": "stdout",
     "output_type": "stream",
     "text": [
      "20\n"
     ]
    }
   ],
   "source": [
    "import numpy as np\n",
    "arr=([10,20,30])\n",
    "print(arr[1])"
   ]
  },
  {
   "cell_type": "code",
   "execution_count": 56,
   "id": "b95064b1-ab03-47a8-9037-6a0d49f6e071",
   "metadata": {
    "tags": []
   },
   "outputs": [
    {
     "name": "stdout",
     "output_type": "stream",
     "text": [
      "30\n"
     ]
    }
   ],
   "source": [
    "import numpy as np\n",
    "print(arr[-1])"
   ]
  },
  {
   "cell_type": "code",
   "execution_count": 1,
   "id": "90ecd2e7-4515-471b-8cef-854651639e53",
   "metadata": {},
   "outputs": [
    {
     "ename": "SyntaxError",
     "evalue": "invalid syntax (4047339840.py, line 1)",
     "output_type": "error",
     "traceback": [
      "\u001b[0;36m  Cell \u001b[0;32mIn[1], line 1\u001b[0;36m\u001b[0m\n\u001b[0;31m    import numpy aa np\u001b[0m\n\u001b[0m                 ^\u001b[0m\n\u001b[0;31mSyntaxError\u001b[0m\u001b[0;31m:\u001b[0m invalid syntax\n"
     ]
    }
   ],
   "source": [
    "import numpy aa np\n",
    "arr=np."
   ]
  },
  {
   "cell_type": "code",
   "execution_count": null,
   "id": "8018c1b5",
   "metadata": {},
   "outputs": [],
   "source": []
  }
 ],
 "metadata": {
  "kernelspec": {
   "display_name": "Python 3 (ipykernel)",
   "language": "python",
   "name": "python3"
  },
  "language_info": {
   "codemirror_mode": {
    "name": "ipython",
    "version": 3
   },
   "file_extension": ".py",
   "mimetype": "text/x-python",
   "name": "python",
   "nbconvert_exporter": "python",
   "pygments_lexer": "ipython3",
   "version": "3.11.4"
  }
 },
 "nbformat": 4,
 "nbformat_minor": 5
}
