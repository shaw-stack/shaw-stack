{
 "cells": [
  {
   "cell_type": "code",
   "execution_count": 1,
   "id": "ca465651",
   "metadata": {},
   "outputs": [],
   "source": [
    "import pandas as pd\n",
    "d1={\"Name\":['sai','sub','poo'],\"Age\":[19,23,21]}\n",
    "d2={\"Qualified\":[True,False,True]}"
   ]
  },
  {
   "cell_type": "code",
   "execution_count": 3,
   "id": "5a4e8665",
   "metadata": {},
   "outputs": [
    {
     "name": "stdout",
     "output_type": "stream",
     "text": [
      "  Name  Age\n",
      "0  sai   19\n",
      "1  sub   23\n",
      "2  poo   21\n",
      "   Qualified\n",
      "0       True\n",
      "1      False\n",
      "2       True\n",
      "  Name  Age  Qualified\n",
      "0  sai   19       True\n",
      "1  sub   23      False\n",
      "2  poo   21       True\n"
     ]
    }
   ],
   "source": [
    "df1=pd.DataFrame(d1)\n",
    "print(df1)\n",
    "df2=pd.DataFrame(d2)\n",
    "print(df2)\n",
    "#Join function\n",
    "newdf=df1.join(df2)\n",
    "print(newdf)\n"
   ]
  },
  {
   "cell_type": "code",
   "execution_count": 13,
   "id": "4322407e",
   "metadata": {},
   "outputs": [
    {
     "name": "stdout",
     "output_type": "stream",
     "text": [
      "  Name  Age\n",
      "0  sai   19\n",
      "1  sub   23\n",
      "2  poo   21\n",
      "   Name  Age\n",
      "0  Anbu   19\n",
      "1  doss   23\n",
      "2  guru   21\n",
      "  Name_x  Age Name_y\n",
      "0   Anbu   19    sai\n",
      "1   doss   23    sub\n",
      "2   guru   21    poo\n",
      "  Name_x  Age Name_y\n",
      "0    sai   19   Anbu\n",
      "1    sub   23   doss\n",
      "2    poo   21   guru\n"
     ]
    }
   ],
   "source": [
    "#MERGE function\n",
    "d1={\"Name\":['sai','sub','poo'],\"Age\":[19,23,21]}\n",
    "d2={\"Name\":['Anbu','doss','guru'],\"Age\":[19,23,21]}\n",
    "df1=pd.DataFrame(d1)\n",
    "print(df1)\n",
    "df2=pd.DataFrame(d2)\n",
    "print(df2)\n",
    "newdf1=(df2.merge(df1,on=\"Age\",how=\"right\"))\n",
    "newdf2=(df1.merge(df2,on=\"Age\",how=\"left\"))\n",
    "print(newdf1)\n",
    "print(newdf2)\n"
   ]
  },
  {
   "cell_type": "code",
   "execution_count": 4,
   "id": "28061f6e",
   "metadata": {},
   "outputs": [
    {
     "name": "stdout",
     "output_type": "stream",
     "text": [
      "  team  points  assists  rebounds\n",
      "0    A      90       12        56\n",
      "1    B      56       34        43\n",
      "2    C      78       23        55\n",
      "3    D      88       44        12\n",
      "   team  variable  value\n",
      "0     A    points     90\n",
      "1     B    points     56\n",
      "2     C    points     78\n",
      "3     D    points     88\n",
      "4     A   assists     12\n",
      "5     B   assists     34\n",
      "6     C   assists     23\n",
      "7     D   assists     44\n",
      "8     A  rebounds     56\n",
      "9     B  rebounds     43\n",
      "10    C  rebounds     55\n",
      "11    D  rebounds     12\n"
     ]
    }
   ],
   "source": [
    "import pandas as pd\n",
    "df=pd.DataFrame({'team':['A','B','C','D'],'points':[90,56,78,88],'assists':[12,34,23,44],'rebounds':[56,43,55,12]})\n",
    "print(df)\n",
    "df=pd.melt(df,id_vars='team',value_vars=['points','assists','rebounds'])\n",
    "print(df)"
   ]
  },
  {
   "cell_type": "code",
   "execution_count": 8,
   "id": "b2f3fd30",
   "metadata": {},
   "outputs": [],
   "source": [
    "#Assign data\n",
    "data={'Name':['Sai','Yuvasri','Poovannan',\n",
    "'Sabharish','Sangamithra','Rithika','Rubasri'],\n",
    "'Age':[20,18,19,20,18,17,19],\n",
    "'Gender':['M','F','M','M','F','F','F'],\n",
    "'Marks':[90,76,'NaN',74,65,'NaN',71]}\n",
    "\n"
   ]
  },
  {
   "cell_type": "code",
   "execution_count": 9,
   "id": "b22fb64a",
   "metadata": {},
   "outputs": [],
   "source": [
    "#convert into datafram\n",
    "df=pd.DataFrame(data)"
   ]
  },
  {
   "cell_type": "code",
   "execution_count": 11,
   "id": "855a6aab",
   "metadata": {},
   "outputs": [
    {
     "name": "stdout",
     "output_type": "stream",
     "text": [
      "Original DataFrame:\n",
      "           Name  Age Gender Marks\n",
      "0          Sai   20      M    90\n",
      "1      Yuvasri   18      F    76\n",
      "2    Poovannan   19      M   NaN\n",
      "3    Sabharish   20      M    74\n",
      "4  Sangamithra   18      F    65\n",
      "5      Rithika   17      F   NaN\n",
      "6      Rubasri   19      F    71\n"
     ]
    }
   ],
   "source": [
    "#display data\n",
    "print(\"Original DataFrame:\\n\",df)\n",
    "#convert average\n",
    "c=avg=0\n",
    "for ele in df['Marks']:\n",
    "    if str(ele).isnumeric():\n",
    "        c+=1\n",
    "avg+=ele\n",
    "avg/=c"
   ]
  },
  {
   "cell_type": "code",
   "execution_count": 12,
   "id": "d767c09f",
   "metadata": {},
   "outputs": [],
   "source": [
    "#Replace missing values\n",
    "df=df.replace(to_replace=\"NaN\",value=avg)"
   ]
  },
  {
   "cell_type": "code",
   "execution_count": 13,
   "id": "552cffe4",
   "metadata": {},
   "outputs": [
    {
     "name": "stdout",
     "output_type": "stream",
     "text": [
      "\n",
      "Replacing NaN with average marks:\n",
      "           Name  Age Gender  Marks\n",
      "0          Sai   20      M   90.0\n",
      "1      Yuvasri   18      F   76.0\n",
      "2    Poovannan   19      M   14.2\n",
      "3    Sabharish   20      M   74.0\n",
      "4  Sangamithra   18      F   65.0\n",
      "5      Rithika   17      F   14.2\n",
      "6      Rubasri   19      F   71.0\n"
     ]
    }
   ],
   "source": [
    "#Display data\n",
    "print(\"\\nReplacing NaN with average marks:\\n\",df)"
   ]
  },
  {
   "cell_type": "code",
   "execution_count": 14,
   "id": "86eb4fee",
   "metadata": {},
   "outputs": [],
   "source": [
    "#Filter top scoring students\n",
    "df=df[df['Marks']>=75]"
   ]
  },
  {
   "cell_type": "code",
   "execution_count": null,
   "id": "d85f1b35",
   "metadata": {},
   "outputs": [],
   "source": []
  }
 ],
 "metadata": {
  "kernelspec": {
   "display_name": "Python 3 (ipykernel)",
   "language": "python",
   "name": "python3"
  },
  "language_info": {
   "codemirror_mode": {
    "name": "ipython",
    "version": 3
   },
   "file_extension": ".py",
   "mimetype": "text/x-python",
   "name": "python",
   "nbconvert_exporter": "python",
   "pygments_lexer": "ipython3",
   "version": "3.11.5"
  }
 },
 "nbformat": 4,
 "nbformat_minor": 5
}
