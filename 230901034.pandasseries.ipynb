{
 "cells": [
  {
   "cell_type": "code",
   "execution_count": 2,
   "id": "a29cc05b",
   "metadata": {},
   "outputs": [
    {
     "name": "stdout",
     "output_type": "stream",
     "text": [
      "0    s\n",
      "1    h\n",
      "2    a\n",
      "3    w\n",
      "dtype: object\n"
     ]
    }
   ],
   "source": [
    "import pandas as pd\n",
    "import numpy as np\n",
    "arr=np.array(['s','h','a','w'])\n",
    "a=pd.Series(arr)\n",
    "print(a)"
   ]
  },
  {
   "cell_type": "code",
   "execution_count": 4,
   "id": "53370a8c",
   "metadata": {},
   "outputs": [
    {
     "name": "stdout",
     "output_type": "stream",
     "text": [
      "a    0\n",
      "b    1\n",
      "c    2\n",
      "dtype: int64\n"
     ]
    }
   ],
   "source": [
    "import pandas as pd\n",
    "import numpy as np\n",
    "arr={'a':0,'b':1,'c':2}\n",
    "a=pd.Series(arr)\n",
    "print(a)"
   ]
  },
  {
   "cell_type": "code",
   "execution_count": 7,
   "id": "799e5b7e",
   "metadata": {},
   "outputs": [
    {
     "name": "stdout",
     "output_type": "stream",
     "text": [
      "0    4\n",
      "1    4\n",
      "2    4\n",
      "3    4\n",
      "dtype: int64\n"
     ]
    }
   ],
   "source": [
    "import pandas as pd\n",
    "import numpy as np\n",
    "scalar=pd.Series(4,index=[0,1,2,3])\n",
    "print(scalar)"
   ]
  },
  {
   "cell_type": "code",
   "execution_count": 8,
   "id": "a87c39c0",
   "metadata": {},
   "outputs": [
    {
     "name": "stdout",
     "output_type": "stream",
     "text": [
      "\n",
      " series ,\n",
      " a    0\n",
      "b    1\n",
      "c    2\n",
      "dtype: int64\n",
      "\n",
      " index \n",
      " Index(['a', 'b', 'c'], dtype='object')\n",
      "\n",
      " values \n",
      " [0 1 2]\n",
      "\n",
      " shape \n",
      " (3,)\n",
      "\n",
      " dimensions \n",
      " 1\n",
      "\n",
      " size 3\n"
     ]
    }
   ],
   "source": [
    "print(\"\\n series ,\\n\",a)\n",
    "print(\"\\n index \\n\",a.index)\n",
    "print('\\n values \\n',a.values)\n",
    "print('\\n shape \\n',a.shape)\n",
    "print(\"\\n dimensions \\n\",a.ndim)\n",
    "print(\"\\n size\",a.size)"
   ]
  },
  {
   "cell_type": "code",
   "execution_count": null,
   "id": "c0969fd5",
   "metadata": {},
   "outputs": [],
   "source": []
  }
 ],
 "metadata": {
  "kernelspec": {
   "display_name": "Python 3 (ipykernel)",
   "language": "python",
   "name": "python3"
  },
  "language_info": {
   "codemirror_mode": {
    "name": "ipython",
    "version": 3
   },
   "file_extension": ".py",
   "mimetype": "text/x-python",
   "name": "python",
   "nbconvert_exporter": "python",
   "pygments_lexer": "ipython3",
   "version": "3.11.5"
  }
 },
 "nbformat": 4,
 "nbformat_minor": 5
}
